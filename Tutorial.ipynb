{
 "cells": [
  {
   "cell_type": "markdown",
   "metadata": {
    "collapsed": true
   },
   "source": [
    "# Data Science for Beginners - Part 2\n",
    "Now that you have your environment running, we can do some stuff. We'll use this dataset:\n",
    "\n",
    "[*2015 Flight Delays and Cancellations* provided by the U.S. Department of Transportation](https://www.kaggle.com/usdot/flight-delays). \n",
    "\n",
    "It is best to follow along with a running Jupyter environment - this can be local or on Azure Notebooks. It is also best to be running this on a cloned repo or library so that you'll also have the data accessible. \n",
    "\n",
    "**Note:** if on Azure notebooks - you would probably need to use a subset of the data because `flights.csv` may be too large for Azure to handle. In *Section 2*, run the other cell."
   ]
  },
  {
   "cell_type": "markdown",
   "metadata": {},
   "source": [
    "# 1. Import Modules and Data"
   ]
  },
  {
   "cell_type": "code",
   "execution_count": 2,
   "metadata": {
    "collapsed": true
   },
   "outputs": [],
   "source": [
    "%matplotlib inline\n",
    "\n",
    "import pandas as pd # Panel data processing\n",
    "import numpy as np # Library for numerical data\n",
    "import matplotlib.pyplot as plt # Plots\n",
    "import matplotlib "
   ]
  },
  {
   "cell_type": "markdown",
   "metadata": {},
   "source": [
    "# 2. Read Data from File"
   ]
  },
  {
   "cell_type": "markdown",
   "metadata": {},
   "source": [
    "**We host this data on an S3 bucket, so it can take a while to download. You can choose to just download the file yourself and change the path.**\n",
    "\n",
    "First we load our csv with `pd.read_csv()`, which is a very good csv parser. This returns a pandas `DataFrame` object, of which dimensions are accessible with `.shape`. \n",
    "\n",
    "`.head()` gives us a preview of our data- by showing the first 5 rows. \n",
    "\n",
    "In jupyter notebook, any variable called on the last line is automatically printed, so there's no need to call `print(flights.head())`."
   ]
  },
  {
   "cell_type": "markdown",
   "metadata": {},
   "source": [
    "### FOR AZURE NOTEBOOKS"
   ]
  },
  {
   "cell_type": "code",
   "execution_count": 3,
   "metadata": {
    "collapsed": true
   },
   "outputs": [],
   "source": [
    "flights = pd.read_csv('https://s3.amazonaws.com/vandyhacks/datascience/flights/flights_sample.csv') # Load the csv from our s3 bucket\n",
    "# 80% sample of original data\n",
    "\n",
    "print(\"Dimensions: {r} rows, {c} cols\".format(r=flights.shape[0], c=flights.shape[1])) \n",
    "flights.head()"
   ]
  },
  {
   "cell_type": "markdown",
   "metadata": {},
   "source": [
    "### FOR LOCAL/Other"
   ]
  },
  {
   "cell_type": "code",
   "execution_count": null,
   "metadata": {},
   "outputs": [],
   "source": [
    "flights = pd.read_csv('https://s3.amazonaws.com/vandyhacks/datascience/flights/flights.csv') # Load the csv from our s3 bucket\n",
    "# This might take a while since the file is about 500mb big (in future just download onto computer)\n",
    "\n",
    "print(\"Dimensions: {r} rows, {c} cols\".format(r=flights.shape[0], c=flights.shape[1])) \n",
    "flights.head()"
   ]
  },
  {
   "cell_type": "markdown",
   "metadata": {},
   "source": [
    "## ALL notebooks run from here down"
   ]
  },
  {
   "cell_type": "code",
   "execution_count": 23,
   "metadata": {},
   "outputs": [
    {
     "data": {
      "text/html": [
       "<div>\n",
       "<style scoped>\n",
       "    .dataframe tbody tr th:only-of-type {\n",
       "        vertical-align: middle;\n",
       "    }\n",
       "\n",
       "    .dataframe tbody tr th {\n",
       "        vertical-align: top;\n",
       "    }\n",
       "\n",
       "    .dataframe thead th {\n",
       "        text-align: right;\n",
       "    }\n",
       "</style>\n",
       "<table border=\"1\" class=\"dataframe\">\n",
       "  <thead>\n",
       "    <tr style=\"text-align: right;\">\n",
       "      <th></th>\n",
       "      <th>IATA_CODE</th>\n",
       "      <th>AIRLINE</th>\n",
       "    </tr>\n",
       "  </thead>\n",
       "  <tbody>\n",
       "    <tr>\n",
       "      <th>0</th>\n",
       "      <td>UA</td>\n",
       "      <td>United Air Lines Inc.</td>\n",
       "    </tr>\n",
       "    <tr>\n",
       "      <th>1</th>\n",
       "      <td>AA</td>\n",
       "      <td>American Airlines Inc.</td>\n",
       "    </tr>\n",
       "    <tr>\n",
       "      <th>2</th>\n",
       "      <td>US</td>\n",
       "      <td>US Airways Inc.</td>\n",
       "    </tr>\n",
       "    <tr>\n",
       "      <th>3</th>\n",
       "      <td>F9</td>\n",
       "      <td>Frontier Airlines Inc.</td>\n",
       "    </tr>\n",
       "    <tr>\n",
       "      <th>4</th>\n",
       "      <td>B6</td>\n",
       "      <td>JetBlue Airways</td>\n",
       "    </tr>\n",
       "  </tbody>\n",
       "</table>\n",
       "</div>"
      ],
      "text/plain": [
       "  IATA_CODE                 AIRLINE\n",
       "0        UA   United Air Lines Inc.\n",
       "1        AA  American Airlines Inc.\n",
       "2        US         US Airways Inc.\n",
       "3        F9  Frontier Airlines Inc.\n",
       "4        B6         JetBlue Airways"
      ]
     },
     "execution_count": 23,
     "metadata": {},
     "output_type": "execute_result"
    }
   ],
   "source": [
    "airlines = pd.read_csv('https://s3.amazonaws.com/vandyhacks/datascience/flights/airlines.csv')\n",
    "airlines.head() "
   ]
  },
  {
   "cell_type": "markdown",
   "metadata": {},
   "source": [
    "# 3. Remove Columns with Empty Values"
   ]
  },
  {
   "cell_type": "code",
   "execution_count": null,
   "metadata": {
    "collapsed": true
   },
   "outputs": [],
   "source": [
    "flights = flights.dropna(axis=1, thresh= 0.8 * flights.shape[0]) # Drop any columns containing NaN, but keep columns with at least 80% non-NA values\n",
    "\n",
    "print(\"Dimensions: {r} rows, {c} cols\".format(r=flights.shape[0], c=flights.shape[1]))\n",
    "flights.head()"
   ]
  },
  {
   "cell_type": "markdown",
   "metadata": {},
   "source": [
    "# 4. Add 'DATE' and 'TOTAL_DELAY' Columns"
   ]
  },
  {
   "cell_type": "markdown",
   "metadata": {},
   "source": [
    "In pandas, you can simply make a new column with assignment. For example:\n",
    "\n",
    "```\n",
    "df['a'] = df['b'] + df['c']\n",
    "```\n",
    "For every row of a DataFrame `df`, the value in col 'a' is the sum of values in columns 'b' and 'c' on the same row.\n",
    "\n",
    "Also, you can access columns of a DataFrame like such. Autocomplete with tab works pretty well in Jupyter.\n",
    "\n",
    "A `DateTime` object is another pandas object for holding date-time information. The `to_datetime` function is pretty flexible in converting Series, strings, and other items into DateTime objects.\n",
    "\n",
    "\n",
    "The next piece of code is pretty nutty:\n",
    "\n",
    "```flights.groupby('DATE').mean()``` returns a new DataFrame. This aggregates the entire `flights` DataFrame column-wise by taking the mean of each column grouped by matching values in the 'DATE' column. The grouped 'DATE' column is now the new index.\n",
    "\n",
    "```pd.DataFrame(flights.groupby('DATE').mean(), columns=['DEPARTURE_DELAY', 'ARRIVAL_DELAY', 'TOTAL_DELAY'])``` creates a DataFrame by basically subsetting the columns we specify. We can also do this by subsetting with a list:\n",
    "\n",
    "```new_df = flights.groupby('DATE').mean()[['DEPARTURE_DELAY', 'ARRIVAL_DELAY', 'TOTAL_DELAY']]``` "
   ]
  }
 ],
 "metadata": {
  "anaconda-cloud": {},
  "kernelspec": {
   "display_name": "Python [default]",
   "language": "python",
   "name": "python3"
  },
  "language_info": {
   "codemirror_mode": {
    "name": "ipython",
    "version": 3
   },
   "file_extension": ".py",
   "mimetype": "text/x-python",
   "name": "python",
   "nbconvert_exporter": "python",
   "pygments_lexer": "ipython3",
   "version": "3.5.5"
  }
 },
 "nbformat": 4,
 "nbformat_minor": 2
}
